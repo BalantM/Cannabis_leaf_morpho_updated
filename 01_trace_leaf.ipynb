{
 "cells": [
  {
   "cell_type": "markdown",
   "metadata": {},
   "source": [
    "### Read in modules"
   ]
  },
  {
   "cell_type": "code",
   "execution_count": 1,
   "metadata": {
    "scrolled": true
   },
   "outputs": [],
   "source": [
    "# for reading in lists of files in folders \n",
    "from os import listdir \n",
    "from os.path import isfile, join\n",
    "\n",
    "# for image analysis\n",
    "# it gave me error first, but worked after\n",
    "# !pip3 install opencv-python\n",
    "import cv2\n",
    "\n",
    "# for routine analysis\n",
    "import numpy as np\n",
    "import matplotlib.pyplot as plt"
   ]
  },
  {
   "cell_type": "markdown",
   "metadata": {},
   "source": [
    "### Define functions"
   ]
  },
  {
   "cell_type": "code",
   "execution_count": 2,
   "metadata": {},
   "outputs": [],
   "source": [
    "# a function to select the largest connected component\n",
    "\n",
    "def undesired_objects (image):\n",
    "    image = image.astype('uint8')\n",
    "    nb_components, output, stats, centroids = cv2.connectedComponentsWithStats(image, connectivity=4)\n",
    "    sizes = stats[:, -1]\n",
    "\n",
    "    max_label = 1\n",
    "    max_size = sizes[1]\n",
    "    for i in range(2, nb_components):\n",
    "        if sizes[i] > max_size:\n",
    "            max_label = i\n",
    "            max_size = sizes[i]\n",
    "\n",
    "    img2 = np.zeros(output.shape)\n",
    "    img2[output == max_label] = 255\n",
    "    \n",
    "    return img2\n",
    "\n",
    "# a function to calculate the area of a polygon\n",
    "\n",
    "def PolyArea(x,y):\n",
    "    return 0.5*np.abs(np.dot(x,np.roll(y,1))-np.dot(y,np.roll(x,1)))\n",
    "    "
   ]
  },
  {
   "cell_type": "markdown",
   "metadata": {},
   "source": [
    "### Set variables"
   ]
  },
  {
   "cell_type": "code",
   "execution_count": 3,
   "metadata": {},
   "outputs": [],
   "source": [
    "## SET HSV THRESHOLDS\n",
    "## HSV = HUE, SATURATION, VALUE \n",
    "low_thresholds = (20, 25, 25)\n",
    "high_thresholds = (70, 255, 255)\n",
    "\n",
    "## SET ITERATIONS OF DILATION AND EROSION\n",
    "iters = 5\n",
    "\n",
    "## FOLDER TO READ IN IMAGES - change the path to the folder with scaned images\n",
    "images_path = \"./01_images/\" \n",
    "\n",
    "## FOLDER TO SAVE PLOTS - change the path to the folder where you want to save the new outlines\n",
    "plot_path = \"./02_plots/\""
   ]
  },
  {
   "cell_type": "markdown",
   "metadata": {},
   "source": [
    "### Retrieve image names and filenames"
   ]
  },
  {
   "cell_type": "code",
   "execution_count": 4,
   "metadata": {},
   "outputs": [],
   "source": [
    "## Name the files as:\n",
    "## individualCode_totalNodeNumber_nodeAndLetter_numberOfleafLobes\n",
    "## for the count of totalNodeNumber, we include the nodes 1 and 2, even if they couldn’t be sampled, but we don't include the\n",
    "## final nodes close to the inflorescence, that were too small to scan - only until the transition to inflorescence. \n",
    "## Example: AM15_4_11_8b_7.jpg\n",
    "\n",
    "## retrieve a list of image file names\n",
    "image_files = [f for f in listdir(images_path) if isfile(join(images_path, f))] \n",
    "\n",
    "## sort the file names alphanumerically \n",
    "image_files.sort()\n",
    "\n",
    "## retrieve image names\n",
    "image_names = []\n",
    "\n",
    "for i in range(len(image_files)):\n",
    "    \n",
    "    image_names.append(image_files[i][0:-4])"
   ]
  },
  {
   "cell_type": "markdown",
   "metadata": {},
   "source": [
    "### Process images"
   ]
  },
  {
   "cell_type": "code",
   "execution_count": null,
   "metadata": {},
   "outputs": [],
   "source": [
    "for f in range(len(image_files)):\n",
    "    \n",
    "    ## read in image\n",
    "    curr_file = image_files[f]\n",
    "    curr_name = image_names[f]\n",
    "    \n",
    "    print(curr_file, f)\n",
    "    \n",
    "    img = cv2.imread(images_path + curr_file)\n",
    "\n",
    "    ## convert to hsv\n",
    "    hsv = cv2.cvtColor(img, cv2.COLOR_BGR2HSV)\n",
    "\n",
    "    ## create mask binary image using color thresholds\n",
    "    mask = cv2.inRange(hsv, low_thresholds, high_thresholds)\n",
    "\n",
    "    ## create a matrix of size 5 as the kernel for dilation and erosion\n",
    "    kernel = np.ones((5, 5), np.uint8)\n",
    "\n",
    "    ## apply dilation and erosion\n",
    "    img_dilation = cv2.dilate(mask, kernel, iterations=iters)\n",
    "    img_erosion = cv2.erode(img_dilation, kernel, iterations=iters)\n",
    "\n",
    "    ## select the largest connected component\n",
    "    leaf = undesired_objects(img_erosion)\n",
    "\n",
    "    ## define contours of all connected components\n",
    "    contour,hier = cv2.findContours(np.array(leaf, np.uint8),cv2.RETR_CCOMP,cv2.CHAIN_APPROX_SIMPLE)\n",
    "\n",
    "    ## calculate areas of all contours\n",
    "\n",
    "    areas = []\n",
    "\n",
    "    for i in range(len(contour)):\n",
    "\n",
    "        curr_contour = contour[i]\n",
    "        shape = np.shape(curr_contour)\n",
    "        reshaped = np.reshape(curr_contour, (shape[0],shape[2]))\n",
    "        area = PolyArea(reshaped[:,0], reshaped[:,1])\n",
    "        areas.append(area)\n",
    "\n",
    "    ## find the index of the largest contour\n",
    "\n",
    "    max_ind = areas.index(max(areas))\n",
    "\n",
    "    ## select the largest contour\n",
    "\n",
    "    leaf_contour = np.reshape(contour[max_ind], (np.shape(contour[max_ind])[0],np.shape(contour[max_ind])[2]))\n",
    "\n",
    "    ## save plot\n",
    "\n",
    "    plt.figure(figsize=(40,40))\n",
    "    plt.plot(leaf_contour[:,0], leaf_contour[:,1], c=\"dodgerblue\")\n",
    "    plt.fill(leaf_contour[:,0], leaf_contour[:,1], c=\"lightgray\")\n",
    "    plt.gca().set_aspect(\"equal\")\n",
    "    plt.axis('off')\n",
    "    plt.savefig(plot_path + \"trace_\" + curr_file, bbox_inches='tight')\n",
    "    plt.close()\n"
   ]
  }
 ],
 "metadata": {
  "kernelspec": {
   "display_name": "Python 3 (ipykernel)",
   "language": "python",
   "name": "python3"
  },
  "language_info": {
   "codemirror_mode": {
    "name": "ipython",
    "version": 3
   },
   "file_extension": ".py",
   "mimetype": "text/x-python",
   "name": "python",
   "nbconvert_exporter": "python",
   "pygments_lexer": "ipython3",
   "version": "3.9.12"
  }
 },
 "nbformat": 4,
 "nbformat_minor": 2
}
